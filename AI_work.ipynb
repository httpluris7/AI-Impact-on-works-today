{
 "cells": [
  {
   "cell_type": "code",
   "execution_count": 1,
   "id": "13f7d85f",
   "metadata": {},
   "outputs": [],
   "source": [
    "import pandas as pd\n",
    "\n",
    "AI_job1 = pd.read_csv(\"ai_job_market_insights.csv\")\n",
    "AI_job2 = pd.read_csv(\"My_Data.csv\")\n",
    "\n",
    "AI_job2.rename(columns={\"Job titiles\": \"Job_Title\"}, inplace = True)"
   ]
  },
  {
   "cell_type": "code",
   "execution_count": null,
   "id": "efb7b0a7",
   "metadata": {},
   "outputs": [],
   "source": [
    "AI_job1[\"Job_Title\"] = AI_job1[\"Job_Title\"].str.lower().str.strip()\n",
    "AI_job2[\"Job_Title\"] = AI_job2[\"Job_Title\"].str.lower().str.strip()"
   ]
  },
  {
   "cell_type": "code",
   "execution_count": 5,
   "id": "b03a45a0",
   "metadata": {},
   "outputs": [
    {
     "name": "stdout",
     "output_type": "stream",
     "text": [
      "              Job_Title       Industry Company_Size       Location  \\\n",
      "0  marketing specialist     Technology        Large      Singapore   \n",
      "1         sales manager         Retail        Small         Berlin   \n",
      "2           ux designer      Education        Large  San Francisco   \n",
      "3            hr manager        Finance       Medium      Singapore   \n",
      "4         sales manager  Entertainment       Medium      Singapore   \n",
      "\n",
      "  AI_Adoption_Level Automation_Risk     Required_Skills     Salary_USD  \\\n",
      "0            Medium            High           Marketing   93792.562466   \n",
      "1               Low            High  Project Management   93027.953758   \n",
      "2            Medium          Medium       Cybersecurity  102825.007867   \n",
      "3               Low            High               Sales  102065.720673   \n",
      "4              High             Low       Cybersecurity   96834.578295   \n",
      "\n",
      "  Remote_Friendly Job_Growth_Projection AI Impact  Tasks  AI models  \\\n",
      "0              No               Decline       20%    281       2181   \n",
      "1              No                Growth       23%    293       1997   \n",
      "2              No                Growth       50%    129        993   \n",
      "3             Yes                Growth       20%    299       1960   \n",
      "4             Yes               Decline       23%    293       1997   \n",
      "\n",
      "   AI_Workload_Ratio                 Domain  \n",
      "0           0.128840  Leadership & Strategy  \n",
      "1           0.146720            Hospitality  \n",
      "2           0.129909     Communication & PR  \n",
      "3           0.152551  Leadership & Strategy  \n",
      "4           0.146720            Hospitality  \n"
     ]
    }
   ],
   "source": [
    "AI_merged = pd.merge(AI_job1, AI_job2, on=\"Job_Title\", how=\"inner\")\n",
    "print(AI_merged.head())"
   ]
  },
  {
   "cell_type": "code",
   "execution_count": 6,
   "id": "28d9f626",
   "metadata": {},
   "outputs": [],
   "source": [
    "AI_merged.to_csv(\"merged_ai.csv\", index=False)"
   ]
  },
  {
   "cell_type": "markdown",
   "id": "a8592e04",
   "metadata": {},
   "source": [
    "Limpieza de los 3 datasets"
   ]
  }
 ],
 "metadata": {
  "kernelspec": {
   "display_name": "base",
   "language": "python",
   "name": "python3"
  },
  "language_info": {
   "codemirror_mode": {
    "name": "ipython",
    "version": 3
   },
   "file_extension": ".py",
   "mimetype": "text/x-python",
   "name": "python",
   "nbconvert_exporter": "python",
   "pygments_lexer": "ipython3",
   "version": "3.12.7"
  }
 },
 "nbformat": 4,
 "nbformat_minor": 5
}
